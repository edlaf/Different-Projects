{
 "cells": [
  {
   "cell_type": "code",
   "execution_count": 1,
   "id": "4037521e",
   "metadata": {},
   "outputs": [],
   "source": [
    "import pandas as pd\n",
    "import numpy as np\n",
    "from sklearn.pipeline import Pipeline\n",
    "from sklearn.preprocessing import RobustScaler\n",
    "from sklearn.metrics import r2_score\n",
    "from sklearn.linear_model import Ridge, BayesianRidge"
   ]
  },
  {
   "cell_type": "code",
   "execution_count": 2,
   "id": "9e7b7ef2",
   "metadata": {},
   "outputs": [],
   "source": [
    "df = pd.read_csv(\"Alphas_AAPL.csv\")\n",
    "df[\"Date\"] = pd.to_datetime(df[\"Date\"])"
   ]
  },
  {
   "cell_type": "code",
   "execution_count": 3,
   "id": "ac85b83a",
   "metadata": {},
   "outputs": [
    {
     "data": {
      "text/html": [
       "<div>\n",
       "<style scoped>\n",
       "    .dataframe tbody tr th:only-of-type {\n",
       "        vertical-align: middle;\n",
       "    }\n",
       "\n",
       "    .dataframe tbody tr th {\n",
       "        vertical-align: top;\n",
       "    }\n",
       "\n",
       "    .dataframe thead th {\n",
       "        text-align: right;\n",
       "    }\n",
       "</style>\n",
       "<table border=\"1\" class=\"dataframe\">\n",
       "  <thead>\n",
       "    <tr style=\"text-align: right;\">\n",
       "      <th></th>\n",
       "      <th>Date</th>\n",
       "      <th>feature1</th>\n",
       "      <th>feature2</th>\n",
       "      <th>feature3</th>\n",
       "      <th>feature4</th>\n",
       "      <th>feature5</th>\n",
       "      <th>feature6</th>\n",
       "      <th>feature7</th>\n",
       "      <th>feature8</th>\n",
       "      <th>target</th>\n",
       "    </tr>\n",
       "  </thead>\n",
       "  <tbody>\n",
       "    <tr>\n",
       "      <th>0</th>\n",
       "      <td>2004-09-20</td>\n",
       "      <td>0.0</td>\n",
       "      <td>0.0</td>\n",
       "      <td>0.0</td>\n",
       "      <td>0.0</td>\n",
       "      <td>0.013654</td>\n",
       "      <td>0.290671</td>\n",
       "      <td>0.0</td>\n",
       "      <td>0.000043</td>\n",
       "      <td>0.007462</td>\n",
       "    </tr>\n",
       "    <tr>\n",
       "      <th>1</th>\n",
       "      <td>2004-09-21</td>\n",
       "      <td>0.0</td>\n",
       "      <td>0.0</td>\n",
       "      <td>0.0</td>\n",
       "      <td>0.0</td>\n",
       "      <td>-0.006635</td>\n",
       "      <td>0.000000</td>\n",
       "      <td>0.0</td>\n",
       "      <td>0.000038</td>\n",
       "      <td>-0.028091</td>\n",
       "    </tr>\n",
       "  </tbody>\n",
       "</table>\n",
       "</div>"
      ],
      "text/plain": [
       "        Date  feature1  feature2  feature3  feature4  feature5  feature6  \\\n",
       "0 2004-09-20       0.0       0.0       0.0       0.0  0.013654  0.290671   \n",
       "1 2004-09-21       0.0       0.0       0.0       0.0 -0.006635  0.000000   \n",
       "\n",
       "   feature7  feature8    target  \n",
       "0       0.0  0.000043  0.007462  \n",
       "1       0.0  0.000038 -0.028091  "
      ]
     },
     "execution_count": 3,
     "metadata": {},
     "output_type": "execute_result"
    }
   ],
   "source": [
    "df.head(2)"
   ]
  },
  {
   "cell_type": "code",
   "execution_count": null,
   "id": "f7e0d4da",
   "metadata": {},
   "outputs": [
    {
     "name": "stdout",
     "output_type": "stream",
     "text": [
      "R2 scores with two signals (with RobustScaler) on 5204 over 3642: {'Ridge': 0.010966081832482266}\n",
      "             Ridge\n",
      "feature1 -0.000128\n"
     ]
    }
   ],
   "source": [
    "cols = [\"feature1\",\n",
    "        # \"feature2\", nn\n",
    "        # \"feature3\", nn\n",
    "        # \"feature4\",\n",
    "        # \"feature5\",\n",
    "        # \"feature6\",\n",
    "        # \"feature7\",\n",
    "        # \"feature8\"\n",
    "        ]\n",
    "\n",
    "for i in range():\n",
    "    X = df[cols].fillna(0).values\n",
    "    y = df['target'].fillna(0).values\n",
    "    split_idx = int(len(df) * 0.3)\n",
    "    Xtr, Xte = X[:split_idx], X[split_idx:]\n",
    "    ytr, yte = y[:split_idx], y[split_idx:]\n",
    "    models = {\n",
    "        'Ridge': Pipeline([('scaler', RobustScaler()), ('model', Ridge(alpha=0.1))]),\n",
    "        # 'BayesianRidge': Pipeline([('scaler', RobustScaler()),('model', BayesianRidge(lambda_1 = 0.1,lambda_2 = 0.5))])\n",
    "    }\n",
    "    results = {}\n",
    "    results_ = {}\n",
    "    for name, pipeline in models.items():\n",
    "        pipeline.fit(Xtr, ytr)\n",
    "        pred = pipeline.predict(Xte)\n",
    "        results[name] = pipeline.score(Xte, yte)\n",
    "    print(f'R2 scores with two signals (with RobustScaler) on {int(len(df))} over {split_idx}:', results)\n",
    "    weights = {}\n",
    "    for name, pipeline in models.items():\n",
    "        coefs = pipeline.named_steps['model'].coef_\n",
    "        weights[name] = coefs\n",
    "    weights_df = pd.DataFrame(weights, index=cols)\n",
    "    print(weights_df)"
   ]
  },
  {
   "cell_type": "code",
   "execution_count": null,
   "id": "459015a0",
   "metadata": {},
   "outputs": [],
   "source": []
  }
 ],
 "metadata": {
  "kernelspec": {
   "display_name": "base",
   "language": "python",
   "name": "python3"
  },
  "language_info": {
   "codemirror_mode": {
    "name": "ipython",
    "version": 3
   },
   "file_extension": ".py",
   "mimetype": "text/x-python",
   "name": "python",
   "nbconvert_exporter": "python",
   "pygments_lexer": "ipython3",
   "version": "3.8.18"
  }
 },
 "nbformat": 4,
 "nbformat_minor": 5
}
